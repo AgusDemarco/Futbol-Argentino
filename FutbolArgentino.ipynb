{
 "cells": [
  {
   "cell_type": "code",
   "execution_count": 1,
   "id": "d2a78b06-b79e-4b99-a055-3efff506ba27",
   "metadata": {},
   "outputs": [],
   "source": [
    "import pandas as pd\n",
    "import json\n",
    "from yaml import load\n",
    "import seaborn as sns\n",
    "import matplotlib.pyplot as plt\n",
    "import numpy as np"
   ]
  },
  {
   "cell_type": "code",
   "execution_count": 2,
   "id": "40f50157-f90e-465a-875f-de778f4e0a5f",
   "metadata": {},
   "outputs": [],
   "source": [
    "# Genero un diccionario en el que cada llave contiene la base de datos del año respectivo\n",
    "info = {'2016': None,'2017': None,'2018': None,'2019': None,'2020': None,'2021': None}"
   ]
  },
  {
   "cell_type": "code",
   "execution_count": 4,
   "id": "2dce8927-0f0b-42f7-8ad9-5c9ba0a4d944",
   "metadata": {},
   "outputs": [],
   "source": [
    "with open('data2016.json') as json_file:\n",
    "  data = json.load(json_file)\n",
    "archivo = pd.DataFrame(data)\n",
    "info['2016']= archivo\n",
    "del archivo\n",
    "data.clear()"
   ]
  },
  {
   "cell_type": "code",
   "execution_count": 5,
   "id": "8f1dbf36-b0cb-4754-9d42-ffed288d9f01",
   "metadata": {},
   "outputs": [],
   "source": [
    "with open('data2017.json') as json_file:\n",
    "  data = json.load(json_file)\n",
    "archivo = pd.DataFrame(data)\n",
    "info['2017']= archivo\n",
    "del archivo\n",
    "data.clear()"
   ]
  },
  {
   "cell_type": "code",
   "execution_count": 6,
   "id": "b3b8beb9-db13-482a-b68d-0c70d2d4cdd2",
   "metadata": {},
   "outputs": [],
   "source": [
    "with open('data2018.json') as json_file:\n",
    "  data = json.load(json_file)\n",
    "archivo = pd.DataFrame(data)\n",
    "info['2018']= archivo\n",
    "del archivo\n",
    "data.clear()"
   ]
  },
  {
   "cell_type": "code",
   "execution_count": 7,
   "id": "4ff72eca-fdc9-45f1-b25c-cb3cacd111a0",
   "metadata": {},
   "outputs": [],
   "source": [
    "with open('data2019.json') as json_file:\n",
    "  data = json.load(json_file)\n",
    "archivo = pd.DataFrame(data)\n",
    "info['2019']= archivo\n",
    "del archivo\n",
    "data.clear()"
   ]
  },
  {
   "cell_type": "code",
   "execution_count": 8,
   "id": "4dded6c4-2345-4b40-bf77-ee714e10a056",
   "metadata": {},
   "outputs": [],
   "source": [
    "with open('data2020.json') as json_file:\n",
    "  data = json.load(json_file)\n",
    "archivo = pd.DataFrame(data)\n",
    "info['2020']= archivo\n",
    "del archivo\n",
    "data.clear()"
   ]
  },
  {
   "cell_type": "code",
   "execution_count": 9,
   "id": "028895c3-355f-4312-b488-308d70808ae2",
   "metadata": {},
   "outputs": [],
   "source": [
    "with open('data2021.json') as json_file:\n",
    "  data = json.load(json_file)\n",
    "archivo = pd.DataFrame(data)\n",
    "info['2021']= archivo\n",
    "del archivo\n",
    "data.clear()"
   ]
  },
  {
   "cell_type": "code",
   "execution_count": 33,
   "id": "c8b7b708-3b4e-4afd-8936-228e2db2ba88",
   "metadata": {},
   "outputs": [],
   "source": [
    "del archivo"
   ]
  },
  {
   "cell_type": "code",
   "execution_count": 34,
   "id": "408fa0ff-23e2-4135-9feb-98530943bf1b",
   "metadata": {},
   "outputs": [],
   "source": [
    "# Creo un solo dataset de todos los años\n",
    "archivo = pd.concat([info[\"2016\"], info[\"2017\"],info[\"2018\"],info[\"2019\"],info[\"2020\"],info[\"2021\"]], axis=1, join='inner')"
   ]
  },
  {
   "cell_type": "code",
   "execution_count": 35,
   "id": "b7b34fd4-f14d-429d-8559-c0c47782433c",
   "metadata": {},
   "outputs": [
    {
     "data": {
      "text/html": [
       "<div>\n",
       "<style scoped>\n",
       "    .dataframe tbody tr th:only-of-type {\n",
       "        vertical-align: middle;\n",
       "    }\n",
       "\n",
       "    .dataframe tbody tr th {\n",
       "        vertical-align: top;\n",
       "    }\n",
       "\n",
       "    .dataframe thead th {\n",
       "        text-align: right;\n",
       "    }\n",
       "</style>\n",
       "<table border=\"1\" class=\"dataframe\">\n",
       "  <thead>\n",
       "    <tr style=\"text-align: right;\">\n",
       "      <th></th>\n",
       "      <th>https://www.whoscored.com/Matches/1043033/Live/Argentina-Liga-Profesional-2016-Belgrano-Atletico-Tucuman</th>\n",
       "      <th>https://www.whoscored.com/Matches/1042915/Live/Argentina-Liga-Profesional-2016-San-Lorenzo-Arsenal-Sarandi</th>\n",
       "      <th>https://www.whoscored.com/Matches/1042940/Live/Argentina-Liga-Profesional-2016-San-Lorenzo-Rosario-Central</th>\n",
       "      <th>https://www.whoscored.com/Matches/1042947/Live/Argentina-Liga-Profesional-2016-San-Martin-San-Juan-Argentinos-Juniors</th>\n",
       "      <th>https://www.whoscored.com/Matches/1042990/Live/Argentina-Liga-Profesional-2016-Patronato-de-Parana-Atletico-Rafaela</th>\n",
       "      <th>https://www.whoscored.com/Matches/1042827/Live/Argentina-Liga-Profesional-2016-Argentinos-Juniors-Tigre</th>\n",
       "      <th>https://www.whoscored.com/Matches/1043021/Live/Argentina-Liga-Profesional-2016-Arsenal-Sarandi-Defensa-y-Justicia</th>\n",
       "      <th>https://www.whoscored.com/Matches/1042917/Live/Argentina-Liga-Profesional-2016-Gimnasia-LP-Quilmes</th>\n",
       "      <th>https://www.whoscored.com/Matches/1042956/Live/Argentina-Liga-Profesional-2016-Boca-Juniors-Atletico-Rafaela</th>\n",
       "      <th>https://www.whoscored.com/Matches/1042942/Live/Argentina-Liga-Profesional-2016-Temperley-Argentinos-Juniors</th>\n",
       "      <th>...</th>\n",
       "      <th>https://www.whoscored.com/Matches/1559781/Live/Argentina-Liga-Profesional-2021-Newell-s-Old-Boys-Estudiantes</th>\n",
       "      <th>https://www.whoscored.com/Matches/1559521/Live/Argentina-Liga-Profesional-2021-Independiente-Colon</th>\n",
       "      <th>https://www.whoscored.com/Matches/1559498/Live/Argentina-Liga-Profesional-2021-Godoy-Cruz-Union</th>\n",
       "      <th>https://www.whoscored.com/Matches/1559676/Live/Argentina-Liga-Profesional-2021-Racing-Club-Sarmiento</th>\n",
       "      <th>https://www.whoscored.com/Matches/1559684/Live/Argentina-Liga-Profesional-2021-Banfield-Talleres</th>\n",
       "      <th>https://www.whoscored.com/Matches/1559529/Live/Argentina-Liga-Profesional-2021-Sarmiento-Atletico-Tucuman</th>\n",
       "      <th>https://www.whoscored.com/Matches/1559472/Live/Argentina-Liga-Profesional-2021-River-Plate-Union</th>\n",
       "      <th>https://www.whoscored.com/Matches/1559522/Live/Argentina-Liga-Profesional-2021-Racing-Club-Central-Cordoba-de-Santiago</th>\n",
       "      <th>https://www.whoscored.com/Matches/1559727/Live/Argentina-Liga-Profesional-2021-Gimnasia-LP-Velez-Sarsfield</th>\n",
       "      <th>https://www.whoscored.com/Matches/1559713/Live/Argentina-Liga-Profesional-2021-Patronato-de-Parana-Talleres</th>\n",
       "    </tr>\n",
       "  </thead>\n",
       "  <tbody>\n",
       "    <tr>\n",
       "      <th>matchId</th>\n",
       "      <td>1043033</td>\n",
       "      <td>1042915</td>\n",
       "      <td>1042940</td>\n",
       "      <td>1042947</td>\n",
       "      <td>1042990</td>\n",
       "      <td>1042827</td>\n",
       "      <td>1043021</td>\n",
       "      <td>1042917</td>\n",
       "      <td>1042956</td>\n",
       "      <td>1042942</td>\n",
       "      <td>...</td>\n",
       "      <td>1559781</td>\n",
       "      <td>1559521</td>\n",
       "      <td>1559498</td>\n",
       "      <td>1559676</td>\n",
       "      <td>1559684</td>\n",
       "      <td>1559529</td>\n",
       "      <td>1559472</td>\n",
       "      <td>1559522</td>\n",
       "      <td>1559727</td>\n",
       "      <td>1559713</td>\n",
       "    </tr>\n",
       "    <tr>\n",
       "      <th>matchCentreData</th>\n",
       "      <td>{'playerIdNameDictionary': {'80097': 'Sebastiá...</td>\n",
       "      <td>{'playerIdNameDictionary': {'125445': 'Juan Me...</td>\n",
       "      <td>{'playerIdNameDictionary': {'14391': 'Fernando...</td>\n",
       "      <td>{'playerIdNameDictionary': {'125332': 'Marcos ...</td>\n",
       "      <td>{'playerIdNameDictionary': {'36945': 'Mauricio...</td>\n",
       "      <td>{'playerIdNameDictionary': {'117939': 'Federic...</td>\n",
       "      <td>{'playerIdNameDictionary': {'89999': 'Fernando...</td>\n",
       "      <td>{'playerIdNameDictionary': {'133833': 'Maximil...</td>\n",
       "      <td>{'playerIdNameDictionary': {'43042': 'Juan Ins...</td>\n",
       "      <td>{'playerIdNameDictionary': {'21743': 'Ariel Có...</td>\n",
       "      <td>...</td>\n",
       "      <td>{'playerIdNameDictionary': {'15268': 'Ignacio ...</td>\n",
       "      <td>{'playerIdNameDictionary': {'43042': 'Juan Ins...</td>\n",
       "      <td>{'playerIdNameDictionary': {'125243': 'Damián ...</td>\n",
       "      <td>{'playerIdNameDictionary': {'410221': 'Ignacio...</td>\n",
       "      <td>{'playerIdNameDictionary': {'302986': 'Facundo...</td>\n",
       "      <td>{'playerIdNameDictionary': {'37361': 'Federico...</td>\n",
       "      <td>{'playerIdNameDictionary': {'13743': 'Javier P...</td>\n",
       "      <td>{'playerIdNameDictionary': {'14838': 'Darío Cv...</td>\n",
       "      <td>{'playerIdNameDictionary': {'125345': 'Matías ...</td>\n",
       "      <td>{'playerIdNameDictionary': {'125448': 'Matías ...</td>\n",
       "    </tr>\n",
       "    <tr>\n",
       "      <th>matchCentreEventTypeJson</th>\n",
       "      <td>{'shotSixYardBox': 0, 'shotPenaltyArea': 1, 's...</td>\n",
       "      <td>{'shotSixYardBox': 0, 'shotPenaltyArea': 1, 's...</td>\n",
       "      <td>{'shotSixYardBox': 0, 'shotPenaltyArea': 1, 's...</td>\n",
       "      <td>{'shotSixYardBox': 0, 'shotPenaltyArea': 1, 's...</td>\n",
       "      <td>{'shotSixYardBox': 0, 'shotPenaltyArea': 1, 's...</td>\n",
       "      <td>{'shotSixYardBox': 0, 'shotPenaltyArea': 1, 's...</td>\n",
       "      <td>{'shotSixYardBox': 0, 'shotPenaltyArea': 1, 's...</td>\n",
       "      <td>{'shotSixYardBox': 0, 'shotPenaltyArea': 1, 's...</td>\n",
       "      <td>{'shotSixYardBox': 0, 'shotPenaltyArea': 1, 's...</td>\n",
       "      <td>{'shotSixYardBox': 0, 'shotPenaltyArea': 1, 's...</td>\n",
       "      <td>...</td>\n",
       "      <td>{'shotSixYardBox': 0, 'shotPenaltyArea': 1, 's...</td>\n",
       "      <td>{'shotSixYardBox': 0, 'shotPenaltyArea': 1, 's...</td>\n",
       "      <td>{'shotSixYardBox': 0, 'shotPenaltyArea': 1, 's...</td>\n",
       "      <td>{'shotSixYardBox': 0, 'shotPenaltyArea': 1, 's...</td>\n",
       "      <td>{'shotSixYardBox': 0, 'shotPenaltyArea': 1, 's...</td>\n",
       "      <td>{'shotSixYardBox': 0, 'shotPenaltyArea': 1, 's...</td>\n",
       "      <td>{'shotSixYardBox': 0, 'shotPenaltyArea': 1, 's...</td>\n",
       "      <td>{'shotSixYardBox': 0, 'shotPenaltyArea': 1, 's...</td>\n",
       "      <td>{'shotSixYardBox': 0, 'shotPenaltyArea': 1, 's...</td>\n",
       "      <td>{'shotSixYardBox': 0, 'shotPenaltyArea': 1, 's...</td>\n",
       "    </tr>\n",
       "    <tr>\n",
       "      <th>formationIdNameMappings</th>\n",
       "      <td>{'2': '442', '3': '41212', '4': '433', '5': '4...</td>\n",
       "      <td>{'2': '442', '3': '41212', '4': '433', '5': '4...</td>\n",
       "      <td>{'2': '442', '3': '41212', '4': '433', '5': '4...</td>\n",
       "      <td>{'2': '442', '3': '41212', '4': '433', '5': '4...</td>\n",
       "      <td>{'2': '442', '3': '41212', '4': '433', '5': '4...</td>\n",
       "      <td>{'2': '442', '3': '41212', '4': '433', '5': '4...</td>\n",
       "      <td>{'2': '442', '3': '41212', '4': '433', '5': '4...</td>\n",
       "      <td>{'2': '442', '3': '41212', '4': '433', '5': '4...</td>\n",
       "      <td>{'2': '442', '3': '41212', '4': '433', '5': '4...</td>\n",
       "      <td>{'2': '442', '3': '41212', '4': '433', '5': '4...</td>\n",
       "      <td>...</td>\n",
       "      <td>{'2': '442', '3': '41212', '4': '433', '5': '4...</td>\n",
       "      <td>{'2': '442', '3': '41212', '4': '433', '5': '4...</td>\n",
       "      <td>{'2': '442', '3': '41212', '4': '433', '5': '4...</td>\n",
       "      <td>{'2': '442', '3': '41212', '4': '433', '5': '4...</td>\n",
       "      <td>{'2': '442', '3': '41212', '4': '433', '5': '4...</td>\n",
       "      <td>{'2': '442', '3': '41212', '4': '433', '5': '4...</td>\n",
       "      <td>{'2': '442', '3': '41212', '4': '433', '5': '4...</td>\n",
       "      <td>{'2': '442', '3': '41212', '4': '433', '5': '4...</td>\n",
       "      <td>{'2': '442', '3': '41212', '4': '433', '5': '4...</td>\n",
       "      <td>{'2': '442', '3': '41212', '4': '433', '5': '4...</td>\n",
       "    </tr>\n",
       "  </tbody>\n",
       "</table>\n",
       "<p>4 rows × 1866 columns</p>\n",
       "</div>"
      ],
      "text/plain": [
       "                         https://www.whoscored.com/Matches/1043033/Live/Argentina-Liga-Profesional-2016-Belgrano-Atletico-Tucuman  \\\n",
       "matchId                                                             1043033                                                         \n",
       "matchCentreData           {'playerIdNameDictionary': {'80097': 'Sebastiá...                                                         \n",
       "matchCentreEventTypeJson  {'shotSixYardBox': 0, 'shotPenaltyArea': 1, 's...                                                         \n",
       "formationIdNameMappings   {'2': '442', '3': '41212', '4': '433', '5': '4...                                                         \n",
       "\n",
       "                         https://www.whoscored.com/Matches/1042915/Live/Argentina-Liga-Profesional-2016-San-Lorenzo-Arsenal-Sarandi  \\\n",
       "matchId                                                             1042915                                                           \n",
       "matchCentreData           {'playerIdNameDictionary': {'125445': 'Juan Me...                                                           \n",
       "matchCentreEventTypeJson  {'shotSixYardBox': 0, 'shotPenaltyArea': 1, 's...                                                           \n",
       "formationIdNameMappings   {'2': '442', '3': '41212', '4': '433', '5': '4...                                                           \n",
       "\n",
       "                         https://www.whoscored.com/Matches/1042940/Live/Argentina-Liga-Profesional-2016-San-Lorenzo-Rosario-Central  \\\n",
       "matchId                                                             1042940                                                           \n",
       "matchCentreData           {'playerIdNameDictionary': {'14391': 'Fernando...                                                           \n",
       "matchCentreEventTypeJson  {'shotSixYardBox': 0, 'shotPenaltyArea': 1, 's...                                                           \n",
       "formationIdNameMappings   {'2': '442', '3': '41212', '4': '433', '5': '4...                                                           \n",
       "\n",
       "                         https://www.whoscored.com/Matches/1042947/Live/Argentina-Liga-Profesional-2016-San-Martin-San-Juan-Argentinos-Juniors  \\\n",
       "matchId                                                             1042947                                                                      \n",
       "matchCentreData           {'playerIdNameDictionary': {'125332': 'Marcos ...                                                                      \n",
       "matchCentreEventTypeJson  {'shotSixYardBox': 0, 'shotPenaltyArea': 1, 's...                                                                      \n",
       "formationIdNameMappings   {'2': '442', '3': '41212', '4': '433', '5': '4...                                                                      \n",
       "\n",
       "                         https://www.whoscored.com/Matches/1042990/Live/Argentina-Liga-Profesional-2016-Patronato-de-Parana-Atletico-Rafaela  \\\n",
       "matchId                                                             1042990                                                                    \n",
       "matchCentreData           {'playerIdNameDictionary': {'36945': 'Mauricio...                                                                    \n",
       "matchCentreEventTypeJson  {'shotSixYardBox': 0, 'shotPenaltyArea': 1, 's...                                                                    \n",
       "formationIdNameMappings   {'2': '442', '3': '41212', '4': '433', '5': '4...                                                                    \n",
       "\n",
       "                         https://www.whoscored.com/Matches/1042827/Live/Argentina-Liga-Profesional-2016-Argentinos-Juniors-Tigre  \\\n",
       "matchId                                                             1042827                                                        \n",
       "matchCentreData           {'playerIdNameDictionary': {'117939': 'Federic...                                                        \n",
       "matchCentreEventTypeJson  {'shotSixYardBox': 0, 'shotPenaltyArea': 1, 's...                                                        \n",
       "formationIdNameMappings   {'2': '442', '3': '41212', '4': '433', '5': '4...                                                        \n",
       "\n",
       "                         https://www.whoscored.com/Matches/1043021/Live/Argentina-Liga-Profesional-2016-Arsenal-Sarandi-Defensa-y-Justicia  \\\n",
       "matchId                                                             1043021                                                                  \n",
       "matchCentreData           {'playerIdNameDictionary': {'89999': 'Fernando...                                                                  \n",
       "matchCentreEventTypeJson  {'shotSixYardBox': 0, 'shotPenaltyArea': 1, 's...                                                                  \n",
       "formationIdNameMappings   {'2': '442', '3': '41212', '4': '433', '5': '4...                                                                  \n",
       "\n",
       "                         https://www.whoscored.com/Matches/1042917/Live/Argentina-Liga-Profesional-2016-Gimnasia-LP-Quilmes  \\\n",
       "matchId                                                             1042917                                                   \n",
       "matchCentreData           {'playerIdNameDictionary': {'133833': 'Maximil...                                                   \n",
       "matchCentreEventTypeJson  {'shotSixYardBox': 0, 'shotPenaltyArea': 1, 's...                                                   \n",
       "formationIdNameMappings   {'2': '442', '3': '41212', '4': '433', '5': '4...                                                   \n",
       "\n",
       "                         https://www.whoscored.com/Matches/1042956/Live/Argentina-Liga-Profesional-2016-Boca-Juniors-Atletico-Rafaela  \\\n",
       "matchId                                                             1042956                                                             \n",
       "matchCentreData           {'playerIdNameDictionary': {'43042': 'Juan Ins...                                                             \n",
       "matchCentreEventTypeJson  {'shotSixYardBox': 0, 'shotPenaltyArea': 1, 's...                                                             \n",
       "formationIdNameMappings   {'2': '442', '3': '41212', '4': '433', '5': '4...                                                             \n",
       "\n",
       "                         https://www.whoscored.com/Matches/1042942/Live/Argentina-Liga-Profesional-2016-Temperley-Argentinos-Juniors  \\\n",
       "matchId                                                             1042942                                                            \n",
       "matchCentreData           {'playerIdNameDictionary': {'21743': 'Ariel Có...                                                            \n",
       "matchCentreEventTypeJson  {'shotSixYardBox': 0, 'shotPenaltyArea': 1, 's...                                                            \n",
       "formationIdNameMappings   {'2': '442', '3': '41212', '4': '433', '5': '4...                                                            \n",
       "\n",
       "                          ...  \\\n",
       "matchId                   ...   \n",
       "matchCentreData           ...   \n",
       "matchCentreEventTypeJson  ...   \n",
       "formationIdNameMappings   ...   \n",
       "\n",
       "                         https://www.whoscored.com/Matches/1559781/Live/Argentina-Liga-Profesional-2021-Newell-s-Old-Boys-Estudiantes  \\\n",
       "matchId                                                             1559781                                                             \n",
       "matchCentreData           {'playerIdNameDictionary': {'15268': 'Ignacio ...                                                             \n",
       "matchCentreEventTypeJson  {'shotSixYardBox': 0, 'shotPenaltyArea': 1, 's...                                                             \n",
       "formationIdNameMappings   {'2': '442', '3': '41212', '4': '433', '5': '4...                                                             \n",
       "\n",
       "                         https://www.whoscored.com/Matches/1559521/Live/Argentina-Liga-Profesional-2021-Independiente-Colon  \\\n",
       "matchId                                                             1559521                                                   \n",
       "matchCentreData           {'playerIdNameDictionary': {'43042': 'Juan Ins...                                                   \n",
       "matchCentreEventTypeJson  {'shotSixYardBox': 0, 'shotPenaltyArea': 1, 's...                                                   \n",
       "formationIdNameMappings   {'2': '442', '3': '41212', '4': '433', '5': '4...                                                   \n",
       "\n",
       "                         https://www.whoscored.com/Matches/1559498/Live/Argentina-Liga-Profesional-2021-Godoy-Cruz-Union  \\\n",
       "matchId                                                             1559498                                                \n",
       "matchCentreData           {'playerIdNameDictionary': {'125243': 'Damián ...                                                \n",
       "matchCentreEventTypeJson  {'shotSixYardBox': 0, 'shotPenaltyArea': 1, 's...                                                \n",
       "formationIdNameMappings   {'2': '442', '3': '41212', '4': '433', '5': '4...                                                \n",
       "\n",
       "                         https://www.whoscored.com/Matches/1559676/Live/Argentina-Liga-Profesional-2021-Racing-Club-Sarmiento  \\\n",
       "matchId                                                             1559676                                                     \n",
       "matchCentreData           {'playerIdNameDictionary': {'410221': 'Ignacio...                                                     \n",
       "matchCentreEventTypeJson  {'shotSixYardBox': 0, 'shotPenaltyArea': 1, 's...                                                     \n",
       "formationIdNameMappings   {'2': '442', '3': '41212', '4': '433', '5': '4...                                                     \n",
       "\n",
       "                         https://www.whoscored.com/Matches/1559684/Live/Argentina-Liga-Profesional-2021-Banfield-Talleres  \\\n",
       "matchId                                                             1559684                                                 \n",
       "matchCentreData           {'playerIdNameDictionary': {'302986': 'Facundo...                                                 \n",
       "matchCentreEventTypeJson  {'shotSixYardBox': 0, 'shotPenaltyArea': 1, 's...                                                 \n",
       "formationIdNameMappings   {'2': '442', '3': '41212', '4': '433', '5': '4...                                                 \n",
       "\n",
       "                         https://www.whoscored.com/Matches/1559529/Live/Argentina-Liga-Profesional-2021-Sarmiento-Atletico-Tucuman  \\\n",
       "matchId                                                             1559529                                                          \n",
       "matchCentreData           {'playerIdNameDictionary': {'37361': 'Federico...                                                          \n",
       "matchCentreEventTypeJson  {'shotSixYardBox': 0, 'shotPenaltyArea': 1, 's...                                                          \n",
       "formationIdNameMappings   {'2': '442', '3': '41212', '4': '433', '5': '4...                                                          \n",
       "\n",
       "                         https://www.whoscored.com/Matches/1559472/Live/Argentina-Liga-Profesional-2021-River-Plate-Union  \\\n",
       "matchId                                                             1559472                                                 \n",
       "matchCentreData           {'playerIdNameDictionary': {'13743': 'Javier P...                                                 \n",
       "matchCentreEventTypeJson  {'shotSixYardBox': 0, 'shotPenaltyArea': 1, 's...                                                 \n",
       "formationIdNameMappings   {'2': '442', '3': '41212', '4': '433', '5': '4...                                                 \n",
       "\n",
       "                         https://www.whoscored.com/Matches/1559522/Live/Argentina-Liga-Profesional-2021-Racing-Club-Central-Cordoba-de-Santiago  \\\n",
       "matchId                                                             1559522                                                                       \n",
       "matchCentreData           {'playerIdNameDictionary': {'14838': 'Darío Cv...                                                                       \n",
       "matchCentreEventTypeJson  {'shotSixYardBox': 0, 'shotPenaltyArea': 1, 's...                                                                       \n",
       "formationIdNameMappings   {'2': '442', '3': '41212', '4': '433', '5': '4...                                                                       \n",
       "\n",
       "                         https://www.whoscored.com/Matches/1559727/Live/Argentina-Liga-Profesional-2021-Gimnasia-LP-Velez-Sarsfield  \\\n",
       "matchId                                                             1559727                                                           \n",
       "matchCentreData           {'playerIdNameDictionary': {'125345': 'Matías ...                                                           \n",
       "matchCentreEventTypeJson  {'shotSixYardBox': 0, 'shotPenaltyArea': 1, 's...                                                           \n",
       "formationIdNameMappings   {'2': '442', '3': '41212', '4': '433', '5': '4...                                                           \n",
       "\n",
       "                         https://www.whoscored.com/Matches/1559713/Live/Argentina-Liga-Profesional-2021-Patronato-de-Parana-Talleres  \n",
       "matchId                                                             1559713                                                           \n",
       "matchCentreData           {'playerIdNameDictionary': {'125448': 'Matías ...                                                           \n",
       "matchCentreEventTypeJson  {'shotSixYardBox': 0, 'shotPenaltyArea': 1, 's...                                                           \n",
       "formationIdNameMappings   {'2': '442', '3': '41212', '4': '433', '5': '4...                                                           \n",
       "\n",
       "[4 rows x 1866 columns]"
      ]
     },
     "execution_count": 35,
     "metadata": {},
     "output_type": "execute_result"
    }
   ],
   "source": [
    "archivo"
   ]
  },
  {
   "cell_type": "code",
   "execution_count": 12,
   "id": "2a69a697-69a4-44e2-98e3-bc80d8337fdb",
   "metadata": {},
   "outputs": [],
   "source": [
    "gol = {}\n",
    "#Creo un diccionario donde cada llave son los equipos"
   ]
  },
  {
   "cell_type": "code",
   "execution_count": 32,
   "id": "fa7a4594-f6a1-4056-a87f-77d28ec8388c",
   "metadata": {},
   "outputs": [
    {
     "data": {
      "text/plain": [
       "'San Lorenzo'"
      ]
     },
     "execution_count": 32,
     "metadata": {},
     "output_type": "execute_result"
    }
   ],
   "source": [
    "archivo['']['matchCentreData']['home']['name']"
   ]
  },
  {
   "cell_type": "code",
   "execution_count": 36,
   "id": "77f7a8bc-c9a2-4395-94a0-e073443858be",
   "metadata": {},
   "outputs": [],
   "source": [
    "for ele in archivo:\n",
    "  local = archivo[ele]['matchCentreData']['home']['name']\n",
    "  if local not in gol.keys():\n",
    "    gol[local]= {'goles':0,'partidos':0,'ganados':0,'perdidos':0,'empatados':0}\n",
    "  visitante = archivo[ele]['matchCentreData']['away']['name']\n",
    "  if visitante not in gol.keys():\n",
    "    gol[visitante]= {'goles':0,'partidos':0,'ganados':0,'perdidos':0,'empatados':0}"
   ]
  },
  {
   "cell_type": "code",
   "execution_count": 37,
   "id": "c786adf2-3bbc-4621-9294-4186d10e4b16",
   "metadata": {},
   "outputs": [],
   "source": [
    "#Sumo los goles en cada equipo\n",
    "for ele in archivo:\n",
    "  df2 = archivo[ele]['matchCentreData']\n",
    "  local = df2['home']['name']\n",
    "  gollocal = df2['score'][0]\n",
    "  visitante = df2['away']['name']\n",
    "  golvisita = df2['score'][4]\n",
    "  # Sumo los goles en el diccionario\n",
    "  gol[local]['goles'] = gol[local]['goles'] + int(gollocal)\n",
    "  gol[visitante]['goles']=gol[visitante]['goles'] + int(golvisita)\n",
    "  #Sumo los partidos en el diccionario\n",
    "  gol[local]['partidos'] = gol[local]['partidos'] + 1\n",
    "  gol[visitante]['partidos']=gol[visitante]['partidos'] + 1\n",
    "  # Sumo las victorias, empates y perdidas\n",
    "  if gollocal > golvisita:\n",
    "   gol[local]['ganados'] = gol[local]['ganados'] + 1\n",
    "   gol[visitante]['perdidos']=gol[visitante]['perdidos'] + 1\n",
    "  elif gollocal < golvisita:\n",
    "   gol[local]['perdidos'] = gol[local]['perdidos'] + 1\n",
    "   gol[visitante]['ganados']=gol[visitante]['ganados'] + 1\n",
    "  else:\n",
    "   gol[local]['empatados'] = gol[local]['empatados'] + 1\n",
    "   gol[visitante]['empatados']=gol[visitante]['empatados'] + 1  "
   ]
  },
  {
   "cell_type": "code",
   "execution_count": 38,
   "id": "b3919c82-487d-4681-8ca8-48b5deb97b3e",
   "metadata": {},
   "outputs": [
    {
     "data": {
      "text/html": [
       "<div>\n",
       "<style scoped>\n",
       "    .dataframe tbody tr th:only-of-type {\n",
       "        vertical-align: middle;\n",
       "    }\n",
       "\n",
       "    .dataframe tbody tr th {\n",
       "        vertical-align: top;\n",
       "    }\n",
       "\n",
       "    .dataframe thead th {\n",
       "        text-align: right;\n",
       "    }\n",
       "</style>\n",
       "<table border=\"1\" class=\"dataframe\">\n",
       "  <thead>\n",
       "    <tr style=\"text-align: right;\">\n",
       "      <th></th>\n",
       "      <th>goles</th>\n",
       "      <th>partidos</th>\n",
       "      <th>ganados</th>\n",
       "      <th>perdidos</th>\n",
       "      <th>empatados</th>\n",
       "    </tr>\n",
       "    <tr>\n",
       "      <th>Equipos</th>\n",
       "      <th></th>\n",
       "      <th></th>\n",
       "      <th></th>\n",
       "      <th></th>\n",
       "      <th></th>\n",
       "    </tr>\n",
       "  </thead>\n",
       "  <tbody>\n",
       "    <tr>\n",
       "      <th>Belgrano</th>\n",
       "      <td>87</td>\n",
       "      <td>98</td>\n",
       "      <td>23</td>\n",
       "      <td>38</td>\n",
       "      <td>37</td>\n",
       "    </tr>\n",
       "    <tr>\n",
       "      <th>Atletico Tucuman</th>\n",
       "      <td>159</td>\n",
       "      <td>136</td>\n",
       "      <td>48</td>\n",
       "      <td>46</td>\n",
       "      <td>42</td>\n",
       "    </tr>\n",
       "    <tr>\n",
       "      <th>San Lorenzo</th>\n",
       "      <td>166</td>\n",
       "      <td>137</td>\n",
       "      <td>58</td>\n",
       "      <td>40</td>\n",
       "      <td>39</td>\n",
       "    </tr>\n",
       "    <tr>\n",
       "      <th>Arsenal Sarandi</th>\n",
       "      <td>110</td>\n",
       "      <td>111</td>\n",
       "      <td>29</td>\n",
       "      <td>52</td>\n",
       "      <td>30</td>\n",
       "    </tr>\n",
       "    <tr>\n",
       "      <th>Rosario Central</th>\n",
       "      <td>156</td>\n",
       "      <td>136</td>\n",
       "      <td>44</td>\n",
       "      <td>49</td>\n",
       "      <td>43</td>\n",
       "    </tr>\n",
       "  </tbody>\n",
       "</table>\n",
       "</div>"
      ],
      "text/plain": [
       "                  goles  partidos  ganados  perdidos  empatados\n",
       "Equipos                                                        \n",
       "Belgrano             87        98       23        38         37\n",
       "Atletico Tucuman    159       136       48        46         42\n",
       "San Lorenzo         166       137       58        40         39\n",
       "Arsenal Sarandi     110       111       29        52         30\n",
       "Rosario Central     156       136       44        49         43"
      ]
     },
     "execution_count": 38,
     "metadata": {},
     "output_type": "execute_result"
    }
   ],
   "source": [
    "# Lo paso a dataaframe\n",
    "tabla = pd.DataFrame.from_dict(gol).T\n",
    "# Le pongo nombre a la primera columna\n",
    "tabla.index.name = 'Equipos'\n",
    "#tabla.rename(columns = {'':'Equipo'},inplace = True)\n",
    "tabla.head()"
   ]
  },
  {
   "cell_type": "code",
   "execution_count": 39,
   "id": "6e490870-389d-4ebb-a441-7bee307d83d4",
   "metadata": {},
   "outputs": [
    {
     "data": {
      "text/html": [
       "<div>\n",
       "<style scoped>\n",
       "    .dataframe tbody tr th:only-of-type {\n",
       "        vertical-align: middle;\n",
       "    }\n",
       "\n",
       "    .dataframe tbody tr th {\n",
       "        vertical-align: top;\n",
       "    }\n",
       "\n",
       "    .dataframe thead th {\n",
       "        text-align: right;\n",
       "    }\n",
       "</style>\n",
       "<table border=\"1\" class=\"dataframe\">\n",
       "  <thead>\n",
       "    <tr style=\"text-align: right;\">\n",
       "      <th></th>\n",
       "      <th>goles</th>\n",
       "    </tr>\n",
       "    <tr>\n",
       "      <th>Equipos</th>\n",
       "      <th></th>\n",
       "    </tr>\n",
       "  </thead>\n",
       "  <tbody>\n",
       "    <tr>\n",
       "      <th>River Plate</th>\n",
       "      <td>223</td>\n",
       "    </tr>\n",
       "    <tr>\n",
       "      <th>Boca Juniors</th>\n",
       "      <td>220</td>\n",
       "    </tr>\n",
       "    <tr>\n",
       "      <th>Racing Club</th>\n",
       "      <td>210</td>\n",
       "    </tr>\n",
       "    <tr>\n",
       "      <th>Godoy Cruz</th>\n",
       "      <td>176</td>\n",
       "    </tr>\n",
       "    <tr>\n",
       "      <th>Defensa y Justicia</th>\n",
       "      <td>174</td>\n",
       "    </tr>\n",
       "  </tbody>\n",
       "</table>\n",
       "</div>"
      ],
      "text/plain": [
       "                    goles\n",
       "Equipos                  \n",
       "River Plate           223\n",
       "Boca Juniors          220\n",
       "Racing Club           210\n",
       "Godoy Cruz            176\n",
       "Defensa y Justicia    174"
      ]
     },
     "execution_count": 39,
     "metadata": {},
     "output_type": "execute_result"
    }
   ],
   "source": [
    "# Veo cuales son los equipos mas goleadores\n",
    "tabla.sort_values(by='goles',ascending = False).iloc[:,[0]].head()"
   ]
  },
  {
   "cell_type": "code",
   "execution_count": 40,
   "id": "3947a698-d2e3-4ff5-b60a-81b7a1d18f12",
   "metadata": {},
   "outputs": [
    {
     "data": {
      "text/plain": [
       "<AxesSubplot:title={'center':'Equipos más goleadores'}, xlabel='Equipos'>"
      ]
     },
     "execution_count": 40,
     "metadata": {},
     "output_type": "execute_result"
    },
    {
     "data": {
      "image/png": "[encoded data removed]",
      "text/plain": [
       "<Figure size 432x288 with 1 Axes>"
      ]
     },
     "metadata": {
      "needs_background": "light"
     },
     "output_type": "display_data"
    }
   ],
   "source": [
    "goleadores = tabla.sort_values(by='goles',ascending = False).iloc[:,[0]].head()\n",
    "goleadores.plot.bar(rot=0,title = 'Equipos más goleadores')"
   ]
  },
  {
   "cell_type": "code",
   "execution_count": 41,
   "id": "850dd735-fc6e-4175-8a42-b5aac24ccc44",
   "metadata": {},
   "outputs": [
    {
     "data": {
      "text/html": [
       "<div>\n",
       "<style scoped>\n",
       "    .dataframe tbody tr th:only-of-type {\n",
       "        vertical-align: middle;\n",
       "    }\n",
       "\n",
       "    .dataframe tbody tr th {\n",
       "        vertical-align: top;\n",
       "    }\n",
       "\n",
       "    .dataframe thead th {\n",
       "        text-align: right;\n",
       "    }\n",
       "</style>\n",
       "<table border=\"1\" class=\"dataframe\">\n",
       "  <thead>\n",
       "    <tr style=\"text-align: right;\">\n",
       "      <th></th>\n",
       "      <th>goles</th>\n",
       "    </tr>\n",
       "    <tr>\n",
       "      <th>Equipos</th>\n",
       "      <th></th>\n",
       "    </tr>\n",
       "  </thead>\n",
       "  <tbody>\n",
       "    <tr>\n",
       "      <th>River Plate</th>\n",
       "      <td>223</td>\n",
       "    </tr>\n",
       "    <tr>\n",
       "      <th>Boca Juniors</th>\n",
       "      <td>220</td>\n",
       "    </tr>\n",
       "    <tr>\n",
       "      <th>Racing Club</th>\n",
       "      <td>210</td>\n",
       "    </tr>\n",
       "    <tr>\n",
       "      <th>Godoy Cruz</th>\n",
       "      <td>176</td>\n",
       "    </tr>\n",
       "    <tr>\n",
       "      <th>Defensa y Justicia</th>\n",
       "      <td>174</td>\n",
       "    </tr>\n",
       "  </tbody>\n",
       "</table>\n",
       "</div>"
      ],
      "text/plain": [
       "                    goles\n",
       "Equipos                  \n",
       "River Plate           223\n",
       "Boca Juniors          220\n",
       "Racing Club           210\n",
       "Godoy Cruz            176\n",
       "Defensa y Justicia    174"
      ]
     },
     "execution_count": 41,
     "metadata": {},
     "output_type": "execute_result"
    }
   ],
   "source": [
    "goleadores"
   ]
  },
  {
   "cell_type": "code",
   "execution_count": 42,
   "id": "839a692e-45b5-4674-a7f6-082c4155a3d8",
   "metadata": {},
   "outputs": [],
   "source": [
    "def show_values(axs, orient=\"v\", space=.01):\n",
    "    def _single(ax):\n",
    "        if orient == \"v\":\n",
    "            for p in ax.patches:\n",
    "                _x = p.get_x() + p.get_width() / 2\n",
    "                _y = p.get_y() + p.get_height() + (p.get_height()*0.01)\n",
    "                value = '{:.1f}'.format(p.get_height())\n",
    "                ax.text(_x, _y, value, ha=\"center\") \n",
    "        elif orient == \"h\":\n",
    "            for p in ax.patches:\n",
    "                _x = p.get_x() + p.get_width() + float(space)\n",
    "                _y = p.get_y() + p.get_height() - (p.get_height()*0.5)\n",
    "                value = '{:.1f}'.format(p.get_width())\n",
    "                ax.text(_x, _y, value, ha=\"left\")\n",
    "\n",
    "    if isinstance(axs, np.ndarray):\n",
    "        for idx, ax in np.ndenumerate(axs):\n",
    "            _single(ax)\n",
    "    else:\n",
    "        _single(axs)"
   ]
  },
  {
   "cell_type": "code",
   "execution_count": 65,
   "id": "c86a8d26-731e-4347-ae39-23b82a001ba0",
   "metadata": {},
   "outputs": [
    {
     "data": {
      "image/png": "[encoded data removed]",
      "text/plain": [
       "<Figure size 1080x576 with 1 Axes>"
      ]
     },
     "metadata": {
      "needs_background": "light"
     },
     "output_type": "display_data"
    }
   ],
   "source": [
    "goleadores['Equipos'] = goleadores.index\n",
    "plt.figure(figsize=(15,8))\n",
    "sns.set_color_codes('pastel')\n",
    "ax = sns.barplot(x = 'Equipos',\n",
    "            y = 'goles',\n",
    "            data = goleadores,\n",
    "            palette = 'Set2')\n",
    "show_values(ax)\n",
    " \n",
    "# Show the plot\n",
    "plt.show()"
   ]
  },
  {
   "cell_type": "code",
   "execution_count": 52,
   "id": "764e5beb-1dc7-4e89-b232-9ec2aea0cbaa",
   "metadata": {},
   "outputs": [
    {
     "data": {
      "text/html": [
       "<div>\n",
       "<style scoped>\n",
       "    .dataframe tbody tr th:only-of-type {\n",
       "        vertical-align: middle;\n",
       "    }\n",
       "\n",
       "    .dataframe tbody tr th {\n",
       "        vertical-align: top;\n",
       "    }\n",
       "\n",
       "    .dataframe thead th {\n",
       "        text-align: right;\n",
       "    }\n",
       "</style>\n",
       "<table border=\"1\" class=\"dataframe\">\n",
       "  <thead>\n",
       "    <tr style=\"text-align: right;\">\n",
       "      <th></th>\n",
       "      <th>goles</th>\n",
       "      <th>partidos</th>\n",
       "      <th>ganados</th>\n",
       "      <th>perdidos</th>\n",
       "      <th>empatados</th>\n",
       "    </tr>\n",
       "    <tr>\n",
       "      <th>Equipos</th>\n",
       "      <th></th>\n",
       "      <th></th>\n",
       "      <th></th>\n",
       "      <th></th>\n",
       "      <th></th>\n",
       "    </tr>\n",
       "  </thead>\n",
       "  <tbody>\n",
       "    <tr>\n",
       "      <th>River Plate</th>\n",
       "      <td>223</td>\n",
       "      <td>136</td>\n",
       "      <td>70</td>\n",
       "      <td>32</td>\n",
       "      <td>34</td>\n",
       "    </tr>\n",
       "    <tr>\n",
       "      <th>Boca Juniors</th>\n",
       "      <td>220</td>\n",
       "      <td>136</td>\n",
       "      <td>76</td>\n",
       "      <td>24</td>\n",
       "      <td>36</td>\n",
       "    </tr>\n",
       "    <tr>\n",
       "      <th>Racing Club</th>\n",
       "      <td>210</td>\n",
       "      <td>136</td>\n",
       "      <td>67</td>\n",
       "      <td>28</td>\n",
       "      <td>41</td>\n",
       "    </tr>\n",
       "    <tr>\n",
       "      <th>Godoy Cruz</th>\n",
       "      <td>176</td>\n",
       "      <td>137</td>\n",
       "      <td>61</td>\n",
       "      <td>55</td>\n",
       "      <td>21</td>\n",
       "    </tr>\n",
       "    <tr>\n",
       "      <th>Defensa y Justicia</th>\n",
       "      <td>174</td>\n",
       "      <td>136</td>\n",
       "      <td>64</td>\n",
       "      <td>36</td>\n",
       "      <td>36</td>\n",
       "    </tr>\n",
       "  </tbody>\n",
       "</table>\n",
       "</div>"
      ],
      "text/plain": [
       "                    goles  partidos  ganados  perdidos  empatados\n",
       "Equipos                                                          \n",
       "River Plate           223       136       70        32         34\n",
       "Boca Juniors          220       136       76        24         36\n",
       "Racing Club           210       136       67        28         41\n",
       "Godoy Cruz            176       137       61        55         21\n",
       "Defensa y Justicia    174       136       64        36         36"
      ]
     },
     "execution_count": 52,
     "metadata": {},
     "output_type": "execute_result"
    }
   ],
   "source": [
    "#Gráfico de performance de partidos\n",
    "perf = tabla.sort_values(by='goles',ascending = False).head()\n",
    "perf"
   ]
  },
  {
   "cell_type": "code",
   "execution_count": null,
   "id": "5ce8916c-96cb-4a8e-bf59-8c15864d2070",
   "metadata": {},
   "outputs": [],
   "source": []
  },
  {
   "cell_type": "code",
   "execution_count": 105,
   "id": "494a3479-5a95-4670-9b14-82cc08bfc40d",
   "metadata": {},
   "outputs": [
    {
     "data": {
      "text/plain": [
       "<Figure size 216x72 with 0 Axes>"
      ]
     },
     "metadata": {},
     "output_type": "display_data"
    },
    {
     "data": {
      "image/png": "[encoded data removed]",
      "text/plain": [
       "<Figure size 432x288 with 1 Axes>"
      ]
     },
     "metadata": {
      "needs_background": "light"
     },
     "output_type": "display_data"
    }
   ],
   "source": [
    "plt.figure(figsize=(3,1))\n",
    "ax =perf.plot(x=\"Equipos\", y=[\"ganados\", \"perdidos\",'empatados'], kind=\"bar\")\n",
    "show_values(ax)\n",
    "plt.show()"
   ]
  },
  {
   "cell_type": "code",
   "execution_count": 66,
   "id": "9c23e265-2055-4a83-9d67-4b6e76f4b4f9",
   "metadata": {},
   "outputs": [
    {
     "data": {
      "image/png": "[encoded data removed]",
      "text/plain": [
       "<Figure size 1080x576 with 1 Axes>"
      ]
     },
     "metadata": {
      "needs_background": "light"
     },
     "output_type": "display_data"
    }
   ],
   "source": [
    "perf['Equipos'] = goleadores.index\n",
    "plt.figure(figsize=(15,8))\n",
    "sns.set_color_codes('pastel')\n",
    "ax = sns.barplot(x = 'Equipos',\n",
    "            y = 'perdidos',\n",
    "            #hue='ganados',\n",
    "            data = perf,\n",
    "            palette = 'Set2')\n",
    "show_values(ax)\n",
    " \n",
    "# Show the plot\n",
    "plt.show()"
   ]
  },
  {
   "cell_type": "code",
   "execution_count": 67,
   "id": "3e908389-6b65-4616-9733-f8cbda67ba06",
   "metadata": {},
   "outputs": [
    {
     "data": {
      "image/png": "[encoded data removed]",
      "text/plain": [
       "<Figure size 1080x576 with 1 Axes>"
      ]
     },
     "metadata": {
      "needs_background": "light"
     },
     "output_type": "display_data"
    }
   ],
   "source": [
    "perf['Equipos'] = goleadores.index\n",
    "plt.figure(figsize=(15,8))\n",
    "sns.set_color_codes('pastel')\n",
    "ax = sns.barplot(x = 'Equipos',\n",
    "            y = 'empatados',\n",
    "            #hue='ganados',\n",
    "            data = perf,\n",
    "            palette = 'Set2')\n",
    "show_values(ax)\n",
    " \n",
    "# Show the plot\n",
    "plt.show()"
   ]
  }
 ],
 "metadata": {
  "kernelspec": {
   "display_name": "Python 3 (ipykernel)",
   "language": "python",
   "name": "python3"
  },
  "language_info": {
   "codemirror_mode": {
    "name": "ipython",
    "version": 3
   },
   "file_extension": ".py",
   "mimetype": "text/x-python",
   "name": "python",
   "nbconvert_exporter": "python",
   "pygments_lexer": "ipython3",
   "version": "3.9.12"
  }
 },
 "nbformat": 4,
 "nbformat_minor": 5
}
